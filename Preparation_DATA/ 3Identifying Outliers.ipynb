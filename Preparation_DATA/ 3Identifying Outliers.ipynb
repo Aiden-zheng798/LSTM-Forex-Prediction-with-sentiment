{
 "cells": [
  {
   "cell_type": "code",
   "execution_count": 1,
   "id": "644c2c52-e99e-4998-8100-1ac8b0e0cf73",
   "metadata": {},
   "outputs": [
    {
     "name": "stdout",
     "output_type": "stream",
     "text": [
      "             Open        High         Low       Close   Adj Close  Volume\n",
      "count  681.000000  681.000000  681.000000  681.000000  681.000000   681.0\n",
      "mean     1.141491    1.144567    1.138349    1.141539    1.141539     0.0\n",
      "std      0.039141    0.039246    0.039021    0.039144    0.039144     0.0\n",
      "min      1.065848    1.080847    1.065451    1.065735    1.065735     0.0\n",
      "25%      1.112372    1.114500    1.108881    1.112446    1.112446     0.0\n",
      "50%      1.131606    1.134687    1.128363    1.131651    1.131651     0.0\n",
      "75%      1.176706    1.180200    1.173254    1.176886    1.176886     0.0\n",
      "max      1.233776    1.235025    1.226693    1.234111    1.234111     0.0\n",
      "Potential Outliers:\n",
      "Empty DataFrame\n",
      "Columns: [Date, Open, High, Low, Close, Adj Close, Volume]\n",
      "Index: []\n"
     ]
    }
   ],
   "source": [
    "import pandas as pd\n",
    "import numpy as np\n",
    "\n",
    "# 加载数据\n",
    "forex_data = pd.read_csv('E:/zuoye/PROJECT_1/Forex_indicators/eurusd_forex_data.csv')\n",
    "\n",
    "# View statistics to identify possible outliers\n",
    "print(forex_data.describe())\n",
    "\n",
    "# Use Z-scores to identify outliers = 3\n",
    "from scipy.stats import zscore\n",
    "\n",
    "# Calculate the z-score and find the value whose absolute value is greater than 3\n",
    "z_scores = np.abs(zscore(forex_data.select_dtypes(include=[np.number])))\n",
    "outliers = (z_scores > 3).any(axis=1)\n",
    "outlier_data = forex_data[outliers]\n",
    "\n",
    "print(\"Potential Outliers:\")\n",
    "print(outlier_data)\n"
   ]
  },
  {
   "cell_type": "code",
   "execution_count": 3,
   "id": "91921304-6a90-4086-8e26-4e7e9f431f7f",
   "metadata": {},
   "outputs": [
    {
     "name": "stdout",
     "output_type": "stream",
     "text": [
      "Potential Unit Issues:\n",
      "Empty DataFrame\n",
      "Columns: [Date, Open, High, Low, Close, Adj Close, Volume]\n",
      "Index: []\n"
     ]
    }
   ],
   "source": [
    "forex_data['Date'] = pd.to_datetime(forex_data['Date']).dt.tz_convert('UTC')\n",
    "\n",
    "unit_issues = forex_data[(forex_data['Open'] <= 0) | \n",
    "                         (forex_data['High'] <= 0) | \n",
    "                         (forex_data['Low'] <= 0) | \n",
    "                         (forex_data['Close'] <= 0)]\n",
    "print(\"Potential Unit Issues:\")\n",
    "print(unit_issues)\n"
   ]
  },
  {
   "cell_type": "code",
   "execution_count": null,
   "id": "98e2b4fa-06b0-412a-a531-fe8bdbcb05d9",
   "metadata": {},
   "outputs": [],
   "source": []
  }
 ],
 "metadata": {
  "kernelspec": {
   "display_name": "Python (3.9)",
   "language": "python",
   "name": "myenv"
  },
  "language_info": {
   "codemirror_mode": {
    "name": "ipython",
    "version": 3
   },
   "file_extension": ".py",
   "mimetype": "text/x-python",
   "name": "python",
   "nbconvert_exporter": "python",
   "pygments_lexer": "ipython3",
   "version": "3.9.20"
  }
 },
 "nbformat": 4,
 "nbformat_minor": 5
}
