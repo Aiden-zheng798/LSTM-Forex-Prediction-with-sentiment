{
 "cells": [
  {
   "cell_type": "code",
   "execution_count": 11,
   "id": "9005cb65-fb27-493c-aa49-c9e1ec7b7722",
   "metadata": {},
   "outputs": [
    {
     "name": "stdout",
     "output_type": "stream",
     "text": [
      "Forex Data Missing Values:\n",
      " Date         0\n",
      "Open         0\n",
      "High         0\n",
      "Low          0\n",
      "Close        0\n",
      "Adj Close    0\n",
      "Volume       0\n",
      "dtype: int64\n",
      "\n",
      "News Data Missing Values:\n",
      " title          0\n",
      "articleBody    1\n",
      "Date           0\n",
      "dtype: int64\n"
     ]
    }
   ],
   "source": [
    "import pandas as pd\n",
    "\n",
    "forex_data_path = 'E:/zuoye/PROJECT_1/Forex_indicators/eurusd_forex_data.csv'\n",
    "news_data_path = 'E:/zuoye/PROJECT_1/Sentiment_NEWS/totalEURUSDnews.xlsx'\n",
    "forex_data = pd.read_csv(forex_data_path)\n",
    "news_data = pd.read_excel(news_data_path)\n",
    "\n",
    "# Check each data set for missing values\n",
    "forex_missing_values = forex_data.isnull().sum()\n",
    "news_missing_values = news_data.isnull().sum()\n",
    "\n",
    "# Print missing value\n",
    "print(\"Forex Data Missing Values:\\n\", forex_missing_values)\n",
    "print(\"\\nNews Data Missing Values:\\n\", news_missing_values)\n"
   ]
  },
  {
   "cell_type": "code",
   "execution_count": null,
   "id": "45de212e-c4c8-4710-b01d-d17c9cb7604d",
   "metadata": {},
   "outputs": [],
   "source": []
  }
 ],
 "metadata": {
  "kernelspec": {
   "display_name": "Python (3.9)",
   "language": "python",
   "name": "myenv"
  },
  "language_info": {
   "codemirror_mode": {
    "name": "ipython",
    "version": 3
   },
   "file_extension": ".py",
   "mimetype": "text/x-python",
   "name": "python",
   "nbconvert_exporter": "python",
   "pygments_lexer": "ipython3",
   "version": "3.9.20"
  }
 },
 "nbformat": 4,
 "nbformat_minor": 5
}
