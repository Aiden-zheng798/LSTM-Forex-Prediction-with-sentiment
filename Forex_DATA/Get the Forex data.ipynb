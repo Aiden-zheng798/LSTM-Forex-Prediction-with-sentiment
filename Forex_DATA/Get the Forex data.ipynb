{
 "cells": [
  {
   "cell_type": "code",
   "execution_count": 1,
   "id": "5560a252-3427-4f4d-9c0e-b1722d7414db",
   "metadata": {},
   "outputs": [
    {
     "name": "stderr",
     "output_type": "stream",
     "text": [
      "[*********************100%***********************]  1 of 1 completed"
     ]
    },
    {
     "name": "stdout",
     "output_type": "stream",
     "text": [
      "                          Open      High       Low     Close  Adj Close  \\\n",
      "Date                                                                      \n",
      "2018-09-21T00:00:00Z  1.177607  1.180164  1.173571  1.177593   1.177593   \n",
      "2018-09-24T00:00:00Z  1.175102  1.181502  1.172525  1.175102   1.175102   \n",
      "2018-09-25T00:00:00Z  1.175323  1.179245  1.173254  1.175295   1.175295   \n",
      "2018-09-26T00:00:00Z  1.176609  1.177700  1.172897  1.176318   1.176318   \n",
      "2018-09-27T00:00:00Z  1.174715  1.175917  1.166453  1.174853   1.174853   \n",
      "\n",
      "                      Volume  \n",
      "Date                          \n",
      "2018-09-21T00:00:00Z       0  \n",
      "2018-09-24T00:00:00Z       0  \n",
      "2018-09-25T00:00:00Z       0  \n",
      "2018-09-26T00:00:00Z       0  \n",
      "2018-09-27T00:00:00Z       0  \n",
      "Data has been saved to E:/zuoye/PROJECT_1/Forex_indicators/eurusd_forex_data.csv\n"
     ]
    },
    {
     "name": "stderr",
     "output_type": "stream",
     "text": [
      "\n"
     ]
    }
   ],
   "source": [
    "import yfinance as yf\n",
    "\n",
    "# The code for the EUR/USD exchange rate pair is 'EURUSD=X'\n",
    "forex_pair = 'EURUSD=X'\n",
    "# Obtain historical data for EUR/USD\n",
    "data = yf.download(forex_pair, start=\"2018-09-21\", end=\"2021-05-04\")\n",
    "# Set the time index to the UTC time zone\n",
    "data.index = data.index.tz_localize('UTC')\n",
    "# Format the time to ISO 8601 format and add 'Z' to represent UTC time\n",
    "data.index = data.index.strftime('%Y-%m-%dT%H:%M:%SZ')\n",
    "# Print the obtained data\n",
    "print(data.head())\n",
    "# Save data to CSV file\n",
    "output_file_path = 'E:/zuoye/PROJECT_1/Forex_indicators/eurusd_forex_data.csv'  \n",
    "data.to_csv(output_file_path)\n",
    "print(f\"Data has been saved to {output_file_path}\")"
   ]
  },
  {
   "cell_type": "code",
   "execution_count": null,
   "id": "9e5bfffb-9483-499c-9721-be07854af219",
   "metadata": {},
   "outputs": [],
   "source": []
  }
 ],
 "metadata": {
  "kernelspec": {
   "display_name": "Python (3.9)",
   "language": "python",
   "name": "myenv"
  },
  "language_info": {
   "codemirror_mode": {
    "name": "ipython",
    "version": 3
   },
   "file_extension": ".py",
   "mimetype": "text/x-python",
   "name": "python",
   "nbconvert_exporter": "python",
   "pygments_lexer": "ipython3",
   "version": "3.9.20"
  }
 },
 "nbformat": 4,
 "nbformat_minor": 5
}
